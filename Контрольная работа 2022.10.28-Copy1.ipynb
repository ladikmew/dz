{
 "cells": [
  {
   "cell_type": "code",
   "execution_count": 26,
   "metadata": {},
   "outputs": [],
   "source": [
    "from PIL import Image\n",
    "import numpy as np\n",
    "from copy import deepcopy"
   ]
  },
  {
   "cell_type": "markdown",
   "metadata": {},
   "source": [
    "Вы работаете в ФСБ в отделе К подотделе шифрования.\n",
    "Спецагенты схватили трех шпионов и у каждого из них были изъяты улики.\n",
    "1. у певрого была бумашка со следующим содержимым: 1f933b5\n",
    "2. у второго была фотография 11.png\n",
    "3. у третьего была фотография 222.bmp\n",
    "\n",
    "После некоторых рассуждений вы решили начать с числа и для начала перевести его в десятичное представление"
   ]
  },
  {
   "cell_type": "code",
   "execution_count": 2,
   "metadata": {},
   "outputs": [],
   "source": [
    "def hex_to_dec(value: str) -> str:\n",
    "    return int(value,16)\n",
    "    \n",
    "    \"\"\"\n",
    "    Функция преобразует строку содержащую число в шестнадцатеричной системе счисления\n",
    "    в строку содержащую число в десятичной системе счисления\n",
    "    \"\"\"\n",
    "    #pass"
   ]
  },
  {
   "cell_type": "code",
   "execution_count": 3,
   "metadata": {},
   "outputs": [
    {
     "data": {
      "text/plain": [
       "33108917"
      ]
     },
     "execution_count": 3,
     "metadata": {},
     "output_type": "execute_result"
    }
   ],
   "source": [
    "v1 = hex_to_dec(\"1f933b5\")\n",
    "v1"
   ]
  },
  {
   "cell_type": "markdown",
   "metadata": {},
   "source": [
    "После получения числа в десятичном виде и осознания что другие данные связаны с изображениями. Вы решили попытаться понять какие еще числа вы можете получить из данного и решили разложить его на простые"
   ]
  },
  {
   "cell_type": "code",
   "execution_count": 11,
   "metadata": {},
   "outputs": [],
   "source": [
    "def devisors(value: int):\n",
    "    d = list()\n",
    "    for  i in range(2,value//2):\n",
    "        if value%i==0:\n",
    "            d.append(i)\n",
    "            d.append(value//i)\n",
    "    return d[0],d[1]\n",
    "    \"\"\"\n",
    "    Фукнция раскладывает число на простые множители\n",
    "    На вход подается только числа у которых таких множителей либо два, либо один (то есть оно уже простое).\n",
    "    \n",
    "    value: Натуральное число\n",
    "    \n",
    "    return Список двух простых чисел произведение которых дает исходное число\n",
    "    \n",
    "    \"\"\"\n",
    "    #pass\n"
   ]
  },
  {
   "cell_type": "code",
   "execution_count": 18,
   "metadata": {},
   "outputs": [
    {
     "data": {
      "text/plain": [
       "7369"
      ]
     },
     "execution_count": 18,
     "metadata": {},
     "output_type": "execute_result"
    }
   ],
   "source": [
    "v2,v3 = devisors(v1)\n",
    "\n"
   ]
  },
  {
   "cell_type": "markdown",
   "metadata": {},
   "source": [
    "Получив два числа вы увидели странности на изображении 11.png в верхнем левом углу и решили что там шифровка. Для начала вы попробовали преобразовать цифры в двоичный код и наложить на огрези в изображении"
   ]
  },
  {
   "cell_type": "code",
   "execution_count": 14,
   "metadata": {},
   "outputs": [],
   "source": [
    "def dec_to_bin(value: int):\n",
    "    dv = ''\n",
    "    while value > 0:\n",
    "        dv += str(value % 2)\n",
    "        value = value // 2\n",
    "    return (dv[::-1])\n",
    "\n",
    "     \n",
    "    \"\"\"\n",
    "    Функция преобразует строку содержащую число из десятичной системы счисления \n",
    "    в строку содержащую число в двоичной системе счисления\n",
    "    \"\"\"\n",
    "   # pass"
   ]
  },
  {
   "cell_type": "code",
   "execution_count": 31,
   "metadata": {},
   "outputs": [],
   "source": [
    "v4 = dec_to_bin(v2)\n",
    "v5 = dec_to_bin(v3)\n",
    "\n"
   ]
  },
  {
   "cell_type": "code",
   "execution_count": null,
   "metadata": {},
   "outputs": [],
   "source": [
    "После чего вы выбрали те байты из изображения что находились на перекрестии строк и столбцов \n",
    "которые отвечали единицам двоичных чисел если их прислонить к изображению в верхний левый угол меньшее число\n",
    "по вертикали а большее по горизонтали"
   ]
  },
  {
   "cell_type": "code",
   "execution_count": 38,
   "metadata": {},
   "outputs": [
    {
     "name": "stdout",
     "output_type": "stream",
     "text": [
      "[83, 75, 102, 102, 84, 94, 78, 32, 103, 75, 88, 87, 101, 102, 102, 88, 84, 88, 102, 102, 80, 88, 84, 102, 83, 78, 93, 75, 73, 84, 102, 102, 83, 75, 102, 102, 74, 75, 81, 103, 75, 88]\n"
     ]
    }
   ],
   "source": [
    "filepath = \"11.png\"\n",
    "with Image.open(filepath) as img:\n",
    "    img.load()\n",
    "    img = np.asarray(img)\n",
    "new_img = deepcopy(img)\n",
    "def translate(v4,v5):\n",
    "    l = 0\n",
    "    a = min(v4,v5)\n",
    "    b = max(v5,v4)\n",
    "    k = np.zeros((len(b),len(a)))\n",
    "    for i in range(0,len(a)):\n",
    "        for j in range(0,len(b)):\n",
    "            if a[i] == b[j] == \"1\":\n",
    "                k[i][j] = 1\n",
    "    return k\n",
    "s = translate(v4,v5).astype(int)\n",
    "def translate1(img,s):\n",
    "    g = []\n",
    "    for i in range(len(s[0])):\n",
    "        for j in range(len(s)):\n",
    "            if s[i][j]==1:\n",
    "                g.append(img[i][j])\n",
    "    return g\n",
    "h = translate1(img,s)\n",
    "print(h)\n",
    " \n"
   ]
  },
  {
   "cell_type": "markdown",
   "metadata": {},
   "source": [
    "  101\n",
    "  \n",
    "1 101\n",
    "0 000\n",
    "1 101"
   ]
  },
  {
   "cell_type": "code",
   "execution_count": 42,
   "metadata": {},
   "outputs": [],
   "source": [
    "def get_bytes(bin1, bin2, img):\n",
    "    l = 0\n",
    "    a = min(bin1,bin2)\n",
    "    b = max(bin1,bin2)\n",
    "    k = np.zeros((len(b),len(a)))\n",
    "    for i in range(0,len(a)):\n",
    "        for j in range(0,len(b)):\n",
    "            if a[i] == b[j] == \"1\":\n",
    "                k[i][j] = 1\n",
    "    g = []\n",
    "    for i in range(len(k[0])):\n",
    "        for j in range(len(k)):\n",
    "            if k[i][j]==1:\n",
    "                g.append(img[i][j])\n",
    "    return g\n",
    "\n",
    "    #pass"
   ]
  },
  {
   "cell_type": "code",
   "execution_count": 43,
   "metadata": {},
   "outputs": [
    {
     "data": {
      "text/plain": [
       "[83,\n",
       " 75,\n",
       " 102,\n",
       " 102,\n",
       " 84,\n",
       " 94,\n",
       " 78,\n",
       " 32,\n",
       " 103,\n",
       " 75,\n",
       " 88,\n",
       " 87,\n",
       " 101,\n",
       " 102,\n",
       " 102,\n",
       " 88,\n",
       " 84,\n",
       " 88,\n",
       " 102,\n",
       " 102,\n",
       " 80,\n",
       " 88,\n",
       " 84,\n",
       " 102,\n",
       " 83,\n",
       " 78,\n",
       " 93,\n",
       " 75,\n",
       " 73,\n",
       " 84,\n",
       " 102,\n",
       " 102,\n",
       " 83,\n",
       " 75,\n",
       " 102,\n",
       " 102,\n",
       " 74,\n",
       " 75,\n",
       " 81,\n",
       " 103,\n",
       " 75,\n",
       " 88]"
      ]
     },
     "execution_count": 43,
     "metadata": {},
     "output_type": "execute_result"
    }
   ],
   "source": [
    "byte_array = get_bytes(v4, v5, new_img)\n",
    "byte_array"
   ]
  },
  {
   "cell_type": "markdown",
   "metadata": {},
   "source": [
    "Далее вы посмотрев на байты изображения уловили в них отголоски кодировки ascii и решили с помощью chr преобразовать их в символы, только всем кодам кроме 32 вы решили добавить 1000 чтобы быть в области русских букв"
   ]
  },
  {
   "cell_type": "code",
   "execution_count": 49,
   "metadata": {},
   "outputs": [],
   "source": [
    "def get_chars(byte_array):\n",
    "    t = ''\n",
    "    for i in range(len(byte_array)):\n",
    "        if byte_array[i]!=32:\n",
    "            l = int(byte_array[i])+1000\n",
    "            t+=chr(l)\n",
    "        else:\n",
    "            t+=chr(byte_array[i])\n",
    "    return t\n",
    "get_chars(byte_array)\n",
    "    #pass"
   ]
  },
  {
   "cell_type": "code",
   "execution_count": 50,
   "metadata": {},
   "outputs": [
    {
     "data": {
      "text/plain": [
       "'лгююмцж ягрпэююрмрююирмюлжхгбмююлгюювгйягр'"
      ]
     },
     "execution_count": 50,
     "metadata": {},
     "output_type": "execute_result"
    }
   ],
   "source": [
    "chars = get_chars(byte_array)\n",
    "chars"
   ]
  },
  {
   "cell_type": "markdown",
   "metadata": {},
   "source": [
    "Вы получили какую-то не очень длинную строчку. Возможно это ключ, но он тоже зашифрован. Вы решили попробовать самую простую кодировку - шифр Цезаря. И путем перебора расшифровали ключ"
   ]
  },
  {
   "cell_type": "code",
   "execution_count": null,
   "metadata": {},
   "outputs": [],
   "source": [
    "def caesar_encryptor(text:str, n:int) -> str:\n",
    "    \"\"\"\n",
    "    Функция шифрует шифром Цезаря с шагом n (n это ключ) русские предложения (пробел добавляется в конец алфавита, \n",
    "    заглавные буквы идут перед строчными: \"АБВ...Яабв...я \") знаки припинания игнорируются. По достижению конца\n",
    "    алфавита отсчет начинается сначала.\n",
    "    Пусть например n = 2\n",
    "    Шифр цезаря это когда вместо А пишется В, вместо Б пишет Г сдвиг на две буквы\n",
    "    \n",
    "    caesar_encryptor(\"Всем привет!\", 1) -> \"ГтёнАрсйгёу\"\n",
    "    \"\"\"\n",
    "    pass\n",
    "\n",
    "\n",
    "def caesar_decryptor(text:str) -> str:\n",
    "    \"\"\"\n",
    "    Расшифровывает Шифр Цезаря \n",
    "    caesar_decryptor(caesar_encryptor(\"Всем привет!\", 1), 1) -> \"Всем привет\"\n",
    "    \"\"\"\n",
    "    pass\n",
    "\n",
    "def caesar_brootforce(test:str):\n",
    "    \"\"\"\n",
    "    Перебор смещений пока не получится вменяемая строка\n",
    "    \"\"\""
   ]
  },
  {
   "cell_type": "code",
   "execution_count": null,
   "metadata": {},
   "outputs": [],
   "source": [
    "key1 = caesar_brootforce(chars)"
   ]
  },
  {
   "cell_type": "code",
   "execution_count": null,
   "metadata": {},
   "outputs": [],
   "source": [
    "после этого вы обратили свой взор на второе изображение. слишком оно обычное и не привлекает внимание. \n",
    "возможно в нем спрятано сообщение\n",
    "загрузив его вы решили посмотреть на четности чисел каждого пикселя и увидели что они совпадают всегда во всех трех каналах.\n",
    "а это означает что надо вытащить четности каждого пикселя как бинарный код"
   ]
  },
  {
   "cell_type": "code",
   "execution_count": null,
   "metadata": {},
   "outputs": [],
   "source": [
    "filepath = \"222.bmp\"\n",
    "with Image.open(filepath) as img:\n",
    "    img.load()\n",
    "img = np.asarray(img)\n",
    "new_img = deepcopy(img)"
   ]
  },
  {
   "cell_type": "code",
   "execution_count": null,
   "metadata": {},
   "outputs": [],
   "source": [
    "def get_bin_array(img):\n",
    "    pass\n",
    "\n",
    "bin_array = get_bin_array(new_img)"
   ]
  },
  {
   "cell_type": "markdown",
   "metadata": {},
   "source": [
    "Далее вы разбили двоичный код по 8 бит и каждый преобразовали в десятичное число а затем и в букву аналогично тому как сделали это раньше (32 пробел к остальным надо добавить 1000 и взять chr)"
   ]
  },
  {
   "cell_type": "code",
   "execution_count": null,
   "metadata": {},
   "outputs": [],
   "source": [
    "def get_char_from_bin_array(bin_array):\n",
    "    pass\n",
    "\n",
    "\n",
    "char_array = get_char_from_bin_array(bin_array)"
   ]
  },
  {
   "cell_type": "markdown",
   "metadata": {},
   "source": [
    "сообщение оказалось длинным и зашифрованным. но у вас есть ключ. наудачу вы попробовали расшифровать код шифрова Вижинера"
   ]
  },
  {
   "cell_type": "code",
   "execution_count": null,
   "metadata": {},
   "outputs": [],
   "source": [
    "def vigenere_encryptor(text: str, key:str) -> str:\n",
    "    \"\"\"\n",
    "    \"\"\"\n",
    "    pass\n",
    "\n",
    "\n",
    "def vigenere_decryptor(text: str, key:str) -> str:\n",
    "    \"\"\"\n",
    "    \"\"\"\n",
    "    pass"
   ]
  },
  {
   "cell_type": "code",
   "execution_count": null,
   "metadata": {},
   "outputs": [],
   "source": [
    "text = vigenere_decryptor(char_array, key1)"
   ]
  },
  {
   "cell_type": "code",
   "execution_count": 4,
   "metadata": {},
   "outputs": [],
   "source": [
    "import string"
   ]
  },
  {
   "cell_type": "code",
   "execution_count": 1,
   "metadata": {},
   "outputs": [
    {
     "data": {
      "text/plain": [
       "34"
      ]
     },
     "execution_count": 1,
     "metadata": {},
     "output_type": "execute_result"
    }
   ],
   "source": [
    "s = \"абвгдеёжзийклмнопрстуфхцчшюъыьэюя \"\n",
    "len(s)"
   ]
  }
 ],
 "metadata": {
  "kernelspec": {
   "display_name": "Python 3",
   "language": "python",
   "name": "python3"
  },
  "language_info": {
   "codemirror_mode": {
    "name": "ipython",
    "version": 3
   },
   "file_extension": ".py",
   "mimetype": "text/x-python",
   "name": "python",
   "nbconvert_exporter": "python",
   "pygments_lexer": "ipython3",
   "version": "3.6.5"
  }
 },
 "nbformat": 4,
 "nbformat_minor": 5
}
