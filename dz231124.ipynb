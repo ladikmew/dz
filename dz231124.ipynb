{
 "cells": [
  {
   "cell_type": "code",
   "execution_count": 6,
   "id": "28b0b25d",
   "metadata": {},
   "outputs": [],
   "source": [
    "import sqlite3\n"
   ]
  },
  {
   "cell_type": "code",
   "execution_count": 7,
   "id": "8dcf59eb",
   "metadata": {},
   "outputs": [],
   "source": [
    "\n",
    "con = sqlite3.connect(\"tutorial.db\")\n"
   ]
  },
  {
   "cell_type": "code",
   "execution_count": 8,
   "id": "6e743ee2",
   "metadata": {},
   "outputs": [],
   "source": [
    "cur = con.cursor()"
   ]
  },
  {
   "cell_type": "code",
   "execution_count": 9,
   "id": "0833aaff",
   "metadata": {},
   "outputs": [
    {
     "data": {
      "text/plain": [
       "<sqlite3.Cursor at 0x1b522933a40>"
      ]
     },
     "execution_count": 9,
     "metadata": {},
     "output_type": "execute_result"
    }
   ],
   "source": [
    "cur.execute(\"CREATE TABLE movie(title, year, score)\")"
   ]
  },
  {
   "cell_type": "code",
   "execution_count": null,
   "id": "50a32437",
   "metadata": {},
   "outputs": [],
   "source": [
    "import sqlite3\n",
    "\n",
    "# Устанавливаем соединение с базой данных\n",
    "with sqlite3.connect('my_database.db') as connection:\n",
    "    cursor = connection.cursor()\n",
    "\n",
    "    # Создаем таблицу Users\n",
    "    cursor.execute('''\n",
    "    CREATE TABLE IF NOT EXISTS Users (\n",
    "    id INTEGER PRIMARY KEY,\n",
    "    username TEXT NOT NULL,\n",
    "    email TEXT NOT NULL,\n",
    "    age INTEGER\n",
    "    )\n",
    "    ''')\n",
    "    # Сохраняем изменения и закрываем соединение\n",
    "    connection.commit()\n",
    "\n",
    "    cursor = connection.cursor()\n",
    "    # Создаем индекс для столбца \"email\"\n",
    "    cursor.execute('CREATE INDEX idx_email ON Users (email)')\n",
    "    # Сохраняем изменения и закрываем соединение\n",
    "    connection.commit()\n",
    "    \n",
    "    cursor = connection.cursor()\n",
    "    # Добавляем нового пользователя\n",
    "    cursor.execute('INSERT INTO Users (username, email, age) VALUES (?, ?, ?)', ('newuser', 'newuser@example.com', 28))\n",
    "    # Сохраняем изменения и закрываем соединение\n",
    "    connection.commit()\n"
   ]
  },
  {
   "cell_type": "code",
   "execution_count": null,
   "id": "97ef0b45",
   "metadata": {},
   "outputs": [],
   "source": []
  },
  {
   "cell_type": "code",
   "execution_count": null,
   "id": "65809e91",
   "metadata": {},
   "outputs": [],
   "source": []
  },
  {
   "cell_type": "code",
   "execution_count": null,
   "id": "5387a7cc",
   "metadata": {},
   "outputs": [],
   "source": []
  },
  {
   "cell_type": "code",
   "execution_count": null,
   "id": "6ab57abc",
   "metadata": {},
   "outputs": [],
   "source": []
  },
  {
   "cell_type": "code",
   "execution_count": null,
   "id": "93bb98ce",
   "metadata": {},
   "outputs": [],
   "source": []
  },
  {
   "cell_type": "code",
   "execution_count": null,
   "id": "293ce60c",
   "metadata": {},
   "outputs": [],
   "source": []
  },
  {
   "cell_type": "code",
   "execution_count": null,
   "id": "ecc6b46c",
   "metadata": {},
   "outputs": [],
   "source": []
  }
 ],
 "metadata": {
  "kernelspec": {
   "display_name": "Python 3 (ipykernel)",
   "language": "python",
   "name": "python3"
  },
  "language_info": {
   "codemirror_mode": {
    "name": "ipython",
    "version": 3
   },
   "file_extension": ".py",
   "mimetype": "text/x-python",
   "name": "python",
   "nbconvert_exporter": "python",
   "pygments_lexer": "ipython3",
   "version": "3.11.4"
  }
 },
 "nbformat": 4,
 "nbformat_minor": 5
}
